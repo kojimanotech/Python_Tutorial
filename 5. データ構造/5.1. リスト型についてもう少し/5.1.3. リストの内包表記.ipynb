{
 "cells": [
  {
   "cell_type": "markdown",
   "metadata": {},
   "source": [
    "## No.1:___を埋めて0〜9までの数を3倍したリストを作成しよう(map関数とlambda関数)"
   ]
  },
  {
   "cell_type": "code",
   "execution_count": null,
   "metadata": {},
   "outputs": [],
   "source": [
    "list = list(___(___ x: x * 3, range(10)))"
   ]
  },
  {
   "cell_type": "code",
   "execution_count": null,
   "metadata": {},
   "outputs": [],
   "source": [
    "#　表示を確認してみよう\n",
    "list"
   ]
  },
  {
   "cell_type": "markdown",
   "metadata": {},
   "source": [
    "## No.2:___を埋めて0〜9までの数を3倍したリストを作成しよう(リストの内包表記)"
   ]
  },
  {
   "cell_type": "code",
   "execution_count": null,
   "metadata": {},
   "outputs": [],
   "source": [
    "list2 = [x * 3 ___ x ___ range(10)]"
   ]
  },
  {
   "cell_type": "code",
   "execution_count": null,
   "metadata": {},
   "outputs": [],
   "source": [
    "# 表示を確認してみよう\n",
    "list2"
   ]
  },
  {
   "cell_type": "markdown",
   "metadata": {},
   "source": [
    "## No.3:___を埋めてx != yとなる(x,y,x * y)のリストを作ろう(forとifの組み合わせ)"
   ]
  },
  {
   "cell_type": "code",
   "execution_count": null,
   "metadata": {},
   "outputs": [],
   "source": [
    "[(x, y, x * y) for ___ in range(1,10) for ___ in range (1,10) if ___]"
   ]
  },
  {
   "cell_type": "markdown",
   "metadata": {},
   "source": [
    "## No.4:以下のソースを実行して0〜3までのsin(x)の値のリストを出力してみよう(複雑な式や関数呼び出しのネスト)\n",
    "```\n",
    "import math\n",
    "import numpy as np\n",
    "[ \"sin(\"+ str(x) + \")=\" + str(math.sin(x)) for x in np.arange(0,3,0.1)]\n",
    "```"
   ]
  },
  {
   "cell_type": "code",
   "execution_count": null,
   "metadata": {},
   "outputs": [],
   "source": []
  }
 ],
 "metadata": {
  "kernelspec": {
   "display_name": "Python 3",
   "language": "python",
   "name": "python3"
  },
  "language_info": {
   "codemirror_mode": {
    "name": "ipython",
    "version": 3
   },
   "file_extension": ".py",
   "mimetype": "text/x-python",
   "name": "python",
   "nbconvert_exporter": "python",
   "pygments_lexer": "ipython3",
   "version": "3.6.7"
  }
 },
 "nbformat": 4,
 "nbformat_minor": 2
}
