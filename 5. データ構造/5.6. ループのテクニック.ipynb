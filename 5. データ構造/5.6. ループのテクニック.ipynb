{
 "cells": [
  {
   "cell_type": "markdown",
   "metadata": {},
   "source": [
    "## No.1:___を埋めて辞書型のキーと値を同時に取り出そう(items())"
   ]
  },
  {
   "cell_type": "code",
   "execution_count": null,
   "metadata": {},
   "outputs": [],
   "source": [
    "heights = {\"田中\": 170, \"吉田\": 165, \"福井\":180}\n",
    "\n",
    "for ___ in ___:\n",
    "    print(str(k) + \"さんの身長は\" + str(v) +\"cmです。\")"
   ]
  },
  {
   "cell_type": "markdown",
   "metadata": {},
   "source": [
    "## No.2:___を埋めて変数alphaの要素のインデックスと要素を同時に取り出そう(enumerate())"
   ]
  },
  {
   "cell_type": "code",
   "execution_count": null,
   "metadata": {},
   "outputs": [],
   "source": [
    "alpha = [\"a\",\"b\",\"c\",\"d\",\"e\"]\n",
    "\n",
    "for ___ in enumerate(___):\n",
    "    print(i, v)"
   ]
  },
  {
   "cell_type": "markdown",
   "metadata": {},
   "source": [
    "## No.3:___を埋めて変数questions,answersを同時に取り出そう(zip())"
   ]
  },
  {
   "cell_type": "code",
   "execution_count": null,
   "metadata": {},
   "outputs": [],
   "source": [
    "questions = [\"Sports\",\"Foods\",\"Color\"]\n",
    "answers = [\"Baseboll\",\"Ramen\",\"Red\"]\n",
    "\n",
    "for ___ in ___:\n",
    "    print(\"What is your Favorite {0} ? It is {1}.\".format(q, a))"
   ]
  },
  {
   "cell_type": "markdown",
   "metadata": {},
   "source": [
    "## No.4:___を埋めて逆方向にループしよう(reversed())"
   ]
  },
  {
   "cell_type": "code",
   "execution_count": null,
   "metadata": {},
   "outputs": [],
   "source": [
    "for i in ___(range(10)):\n",
    "    print(i)"
   ]
  },
  {
   "cell_type": "markdown",
   "metadata": {},
   "source": [
    "## No.5:___を埋めて昇順ソートしてループしよう(sorted())"
   ]
  },
  {
   "cell_type": "code",
   "execution_count": null,
   "metadata": {},
   "outputs": [],
   "source": [
    "names = [\"Tanaka\", \"Kojima\",\"Yoshida\", \"Aida\"]\n",
    "\n",
    "for name in ___(names):\n",
    "    print(name)"
   ]
  }
 ],
 "metadata": {
  "kernelspec": {
   "display_name": "Python 3",
   "language": "python",
   "name": "python3"
  },
  "language_info": {
   "codemirror_mode": {
    "name": "ipython",
    "version": 3
   },
   "file_extension": ".py",
   "mimetype": "text/x-python",
   "name": "python",
   "nbconvert_exporter": "python",
   "pygments_lexer": "ipython3",
   "version": "3.6.7"
  }
 },
 "nbformat": 4,
 "nbformat_minor": 2
}
