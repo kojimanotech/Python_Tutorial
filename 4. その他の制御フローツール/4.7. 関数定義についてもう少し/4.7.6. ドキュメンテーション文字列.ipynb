{
 "cells": [
  {
   "cell_type": "markdown",
   "metadata": {},
   "source": [
    "## No.1:___を埋めてドキュメンテーション文字列を定義しよう"
   ]
  },
  {
   "cell_type": "code",
   "execution_count": null,
   "metadata": {},
   "outputs": [],
   "source": [
    "def my_doc():\n",
    "    ___\n",
    "    むかし　むかし　あるところに\n",
    "    おじいさんと　おばあさんが　くらしていました\n",
    "    \n",
    "    おじいさんは　やまへ　しばかりに\n",
    "    おばあさんは　かわへ　せんたくに　いきました\n",
    "    \n",
    "    めでたし　めでたし\n",
    "    ___\n",
    "    pass\n",
    "\n"
   ]
  },
  {
   "cell_type": "markdown",
   "metadata": {},
   "source": [
    "## No.2:___を埋めてドキュメンテーション文字列を表示しよう"
   ]
  },
  {
   "cell_type": "code",
   "execution_count": null,
   "metadata": {},
   "outputs": [],
   "source": [
    "print(my_doc.___)"
   ]
  }
 ],
 "metadata": {
  "kernelspec": {
   "display_name": "Python 3",
   "language": "python",
   "name": "python3"
  },
  "language_info": {
   "codemirror_mode": {
    "name": "ipython",
    "version": 3
   },
   "file_extension": ".py",
   "mimetype": "text/x-python",
   "name": "python",
   "nbconvert_exporter": "python",
   "pygments_lexer": "ipython3",
   "version": "3.6.7"
  }
 },
 "nbformat": 4,
 "nbformat_minor": 2
}
