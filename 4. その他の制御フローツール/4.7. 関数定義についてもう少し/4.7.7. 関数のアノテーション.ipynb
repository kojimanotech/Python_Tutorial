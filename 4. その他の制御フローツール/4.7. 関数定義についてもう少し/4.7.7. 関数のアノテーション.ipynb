{
 "cells": [
  {
   "cell_type": "markdown",
   "metadata": {},
   "source": [
    "## ___を埋めて関数のアノテーションを見てみよう"
   ]
  },
  {
   "cell_type": "code",
   "execution_count": null,
   "metadata": {},
   "outputs": [],
   "source": [
    "def func(name: str, age: int, height:float) -> str:\n",
    "    print(f.___)\n",
    "    return \"name:\" + name + \"/age:\" + str(age) + \"/height:\" + str(height)\n",
    "\n",
    "func(\"Taro\",18,170.3)"
   ]
  }
 ],
 "metadata": {
  "kernelspec": {
   "display_name": "Python 3",
   "language": "python",
   "name": "python3"
  },
  "language_info": {
   "codemirror_mode": {
    "name": "ipython",
    "version": 3
   },
   "file_extension": ".py",
   "mimetype": "text/x-python",
   "name": "python",
   "nbconvert_exporter": "python",
   "pygments_lexer": "ipython3",
   "version": "3.6.7"
  }
 },
 "nbformat": 4,
 "nbformat_minor": 2
}
