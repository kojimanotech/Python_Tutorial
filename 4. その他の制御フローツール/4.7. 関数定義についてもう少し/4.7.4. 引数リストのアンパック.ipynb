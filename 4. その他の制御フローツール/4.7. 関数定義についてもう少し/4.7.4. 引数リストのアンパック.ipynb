{
 "cells": [
  {
   "cell_type": "markdown",
   "metadata": {},
   "source": [
    "## No.1:___を埋めて引数のアンパックをしてみよう"
   ]
  },
  {
   "cell_type": "code",
   "execution_count": null,
   "metadata": {},
   "outputs": [],
   "source": [
    "range(1,10)\n",
    "list(___)"
   ]
  },
  {
   "cell_type": "markdown",
   "metadata": {},
   "source": [
    "## No.2:___を埋めて辞書をキーワード引数に渡してみよう"
   ]
  },
  {
   "cell_type": "code",
   "execution_count": null,
   "metadata": {},
   "outputs": [],
   "source": [
    "def profile(name, age, gender):\n",
    "    print(\"My name is\" + name)\n",
    "    print(age + \" years old\")\n",
    "    print(gender)\n",
    "    \n",
    "prof = {\"name\": \"Tanaka\", \"age\": \"20\", \"gender\": \"man\"}\n",
    "profile(___)"
   ]
  }
 ],
 "metadata": {
  "kernelspec": {
   "display_name": "Python 3",
   "language": "python",
   "name": "python3"
  },
  "language_info": {
   "codemirror_mode": {
    "name": "ipython",
    "version": 3
   },
   "file_extension": ".py",
   "mimetype": "text/x-python",
   "name": "python",
   "nbconvert_exporter": "python",
   "pygments_lexer": "ipython3",
   "version": "3.6.7"
  }
 },
 "nbformat": 4,
 "nbformat_minor": 2
}
