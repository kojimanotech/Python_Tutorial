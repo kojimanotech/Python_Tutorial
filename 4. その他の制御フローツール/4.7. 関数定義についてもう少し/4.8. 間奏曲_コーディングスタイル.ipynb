{
 "cells": [
  {
   "cell_type": "markdown",
   "metadata": {},
   "source": [
    "## 以下のセルを実行してから問題を解こう\n",
    "```\n",
    "4.8. 間奏曲: コーディングスタイル(PEP 8)に関する穴埋め問題です。\n",
    "書かれたコードを実行し、穴埋めの解答を入力してください。\n",
    "\n",
    "丸暗記が必要なものではないので、できなくてもそんなに落ち込む必要はないです。\n",
    "\n",
    "表記揺れ（後ろ、後、うしろ）のようなチェックはしてないので、表記揺れが原因で間違えてもイライラしないでください。\n",
    "```"
   ]
  },
  {
   "cell_type": "code",
   "execution_count": 36,
   "metadata": {},
   "outputs": [],
   "source": [
    " # 解答を取得\n",
    "def get_answer_list():\n",
    "    #　解答ファイルを読込\n",
    "    answer_data = open(\"4_8_answer.txt\",\"r\")\n",
    "    answer_lines = answer_data.readlines()\n",
    "\n",
    "    # 解答リストを取得\n",
    "    answer_list = []\n",
    "    for line in answer_lines:\n",
    "        #テキストの読み込みは改行が含まるので\n",
    "        answer = line.replace(\"\\n\",\"\")\n",
    "        answer_list.append(answer)\n",
    "    \n",
    "    return answer_list"
   ]
  },
  {
   "cell_type": "code",
   "execution_count": 37,
   "metadata": {},
   "outputs": [],
   "source": [
    "#解答を確認\n",
    "def check_answer(answer, number, answer_list=get_answer_list()):\n",
    "    if answer == answer_list[number - 1]:\n",
    "        print(\"正解です！\")\n",
    "    else:\n",
    "        print(\"間違いです。答えは[\" + answer_list[number - 1] +\"]です。\" )"
   ]
  },
  {
   "cell_type": "markdown",
   "metadata": {},
   "source": [
    "## 問題1：(Q1)を正しく埋めよう。 \n",
    "## 問題2：(Q2)を正しく埋めよう。 \n",
    "\n",
    "```\n",
    "インデントには空白(Q1)つを使い、(Q2)は使わないこと。\n",
    "```"
   ]
  },
  {
   "cell_type": "code",
   "execution_count": null,
   "metadata": {},
   "outputs": [],
   "source": [
    "answer = input(\"問題1の答えは？\")\n",
    "check_answer(answer,1)"
   ]
  },
  {
   "cell_type": "code",
   "execution_count": null,
   "metadata": {},
   "outputs": [],
   "source": [
    "answer = input(\"問題2の答えは？\")\n",
    "check_answer(answer,2)"
   ]
  },
  {
   "cell_type": "markdown",
   "metadata": {},
   "source": [
    "## 問題3：(Q3)を正しく埋めよう。 \n",
    "\n",
    "```\n",
    "ソースコードの幅が(Q3)文字を越えないように行を折り返すこと。\n",
    "```"
   ]
  },
  {
   "cell_type": "code",
   "execution_count": null,
   "metadata": {},
   "outputs": [],
   "source": [
    "answer = input(\"問題3の答えは？\")\n",
    "check_answer(answer,3)"
   ]
  },
  {
   "cell_type": "markdown",
   "metadata": {},
   "source": [
    "## 問題4：(Q4)を正しく埋めよう。 \n",
    "\n",
    "```\n",
    "関数やクラスや関数内の大きめのコードブロックの区切りに(Q4)を使うこと。\n",
    "```"
   ]
  },
  {
   "cell_type": "code",
   "execution_count": null,
   "metadata": {},
   "outputs": [],
   "source": [
    "answer = input(\"問題4の答えは？\")\n",
    "check_answer(answer,4)"
   ]
  },
  {
   "cell_type": "markdown",
   "metadata": {},
   "source": [
    "## 問題5：(Q5)を正しく埋めよう。 \n",
    "\n",
    "```\n",
    "可能なら、コメントは行に(Q5)で書くこと。\n",
    "```"
   ]
  },
  {
   "cell_type": "code",
   "execution_count": null,
   "metadata": {},
   "outputs": [],
   "source": [
    "answer = input(\"問題5の答えは？\")\n",
    "check_answer(answer,5)"
   ]
  },
  {
   "cell_type": "markdown",
   "metadata": {},
   "source": [
    "## 問題6：(Q6)を正しく埋めよう。 \n",
    "\n",
    "```\n",
    "(Q6)を使うこと。\n",
    "```"
   ]
  },
  {
   "cell_type": "code",
   "execution_count": null,
   "metadata": {},
   "outputs": [],
   "source": [
    "answer = input(\"問題6の答えは？\")\n",
    "check_answer(answer,6)"
   ]
  },
  {
   "cell_type": "markdown",
   "metadata": {},
   "source": [
    "## 問題7：(Q7)を正しく埋めよう。 \n",
    "## 問題8：(Q8)を正しく埋めよう。 \n",
    "## 問題9：(Q9)を正しく埋めよう。 \n",
    "\n",
    "```\n",
    "演算子の(Q7)とコンマの(Q8)には空白を入れ、括弧類のすぐ(Q9)には空白を入れないこと: a = f(1, 2) + g(3, 4)。\n",
    "```"
   ]
  },
  {
   "cell_type": "code",
   "execution_count": null,
   "metadata": {},
   "outputs": [],
   "source": [
    "answer = input(\"問題7の答えは？\")\n",
    "check_answer(answer,7)"
   ]
  },
  {
   "cell_type": "code",
   "execution_count": null,
   "metadata": {},
   "outputs": [],
   "source": [
    "answer = input(\"問題8の答えは？\")\n",
    "check_answer(answer,8)"
   ]
  },
  {
   "cell_type": "code",
   "execution_count": null,
   "metadata": {},
   "outputs": [],
   "source": [
    "answer = input(\"問題9の答えは？\")\n",
    "check_answer(answer,9)"
   ]
  },
  {
   "cell_type": "markdown",
   "metadata": {},
   "source": [
    "## 問題10：(Q10)を正しく埋めよう。 \n",
    "## 問題11：(Q11)を正しく埋めよう。  \n",
    "## 問題12：(Q12)を正しく埋めよう。 \n",
    "\n",
    "```\n",
    "クラスや関数に一貫性のある名前を付けること。慣習では(Q10)をクラス名に使い、(Q11)を関数名やメソッド名に使います。常に(Q12)をメソッドの第 1 引数の名前 (クラスやメソッドについては クラス初見 を見よ) として使うこと。\n",
    "```"
   ]
  },
  {
   "cell_type": "code",
   "execution_count": null,
   "metadata": {},
   "outputs": [],
   "source": [
    "answer = input(\"問題10の答えは？\")\n",
    "check_answer(answer,10)"
   ]
  },
  {
   "cell_type": "code",
   "execution_count": null,
   "metadata": {},
   "outputs": [],
   "source": [
    "answer = input(\"問題11の答えは？\")\n",
    "check_answer(answer,11)"
   ]
  },
  {
   "cell_type": "code",
   "execution_count": null,
   "metadata": {},
   "outputs": [],
   "source": [
    "answer = input(\"問題12の答えは？\")\n",
    "check_answer(answer,12)"
   ]
  },
  {
   "cell_type": "markdown",
   "metadata": {},
   "source": [
    "## 問題13：(Q13)を正しく埋めよう。 \n",
    "## 問題14：(Q14)を正しく埋めよう。\n",
    "\n",
    "```\n",
    "あなたのコードを世界中で使ってもらうつもりなら、風変りなエンコーディングは使わないこと。どんな場合でも、Python のデフォルト(Q13)またはプレーン (Q14) が最も上手くいきます。\n",
    "\n",
    "同様に、ほんの少しでも他の言語を話す人がコードを読んだりメンテナンスする可能性があるのであれば、非 (Q14) 文字も識別子に使うべきではありません。\n",
    "```"
   ]
  },
  {
   "cell_type": "code",
   "execution_count": null,
   "metadata": {},
   "outputs": [],
   "source": [
    "answer = input(\"問題13の答えは？\")\n",
    "check_answer(answer,13)"
   ]
  },
  {
   "cell_type": "code",
   "execution_count": null,
   "metadata": {},
   "outputs": [],
   "source": [
    "answer = input(\"問題14の答えは？\")\n",
    "check_answer(answer,14)"
   ]
  }
 ],
 "metadata": {
  "kernelspec": {
   "display_name": "Python 3",
   "language": "python",
   "name": "python3"
  },
  "language_info": {
   "codemirror_mode": {
    "name": "ipython",
    "version": 3
   },
   "file_extension": ".py",
   "mimetype": "text/x-python",
   "name": "python",
   "nbconvert_exporter": "python",
   "pygments_lexer": "ipython3",
   "version": "3.6.7"
  }
 },
 "nbformat": 4,
 "nbformat_minor": 2
}
