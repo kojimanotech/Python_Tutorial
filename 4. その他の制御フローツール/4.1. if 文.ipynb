{
 "cells": [
  {
   "cell_type": "markdown",
   "metadata": {},
   "source": [
    "## 点数によって表示を変えよう\n",
    "```\n",
    "（入力は0〜100を想定、例外判定は考慮しない）\n",
    "「あなたの点数は？」の入力値に対して\n",
    "100点：完璧！\n",
    "80点以上、100点未満：すごい！\n",
    "60点以上、80点未満：いいですね\n",
    "60点未満：頑張りましょう\n",
    "\n",
    "を表示しよう\n",
    "```"
   ]
  },
  {
   "cell_type": "code",
   "execution_count": 3,
   "metadata": {},
   "outputs": [
    {
     "name": "stdout",
     "output_type": "stream",
     "text": [
      "あなたの点数は？：30\n"
     ]
    }
   ],
   "source": [
    "# 点数を入力してください\n",
    "score = int(input(\"あなたの点数は？：\"))"
   ]
  },
  {
   "cell_type": "code",
   "execution_count": null,
   "metadata": {},
   "outputs": [],
   "source": [
    "# ここにif文を書こう\n",
    "\n"
   ]
  }
 ],
 "metadata": {
  "kernelspec": {
   "display_name": "Python 3",
   "language": "python",
   "name": "python3"
  },
  "language_info": {
   "codemirror_mode": {
    "name": "ipython",
    "version": 3
   },
   "file_extension": ".py",
   "mimetype": "text/x-python",
   "name": "python",
   "nbconvert_exporter": "python",
   "pygments_lexer": "ipython3",
   "version": "3.6.7"
  }
 },
 "nbformat": 4,
 "nbformat_minor": 2
}
